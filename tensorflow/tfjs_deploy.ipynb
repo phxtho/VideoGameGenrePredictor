{
  "nbformat": 4,
  "nbformat_minor": 0,
  "metadata": {
    "colab": {
      "name": "tfjs-deploy.ipynb",
      "provenance": []
    },
    "kernelspec": {
      "name": "python3",
      "display_name": "Python 3"
    }
  },
  "cells": [
    {
      "cell_type": "code",
      "metadata": {
        "id": "pkoAdMPDbJpS",
        "colab_type": "code",
        "colab": {}
      },
      "source": [
        "!pip install tensorflowjs"
      ],
      "execution_count": 0,
      "outputs": []
    },
    {
      "cell_type": "code",
      "metadata": {
        "id": "2T1YXt98ba-t",
        "colab_type": "code",
        "colab": {
          "base_uri": "https://localhost:8080/",
          "height": 122
        },
        "outputId": "83fcb20b-4bd5-45d6-ef77-b5a98efda7a4"
      },
      "source": [
        "from google.colab import drive\n",
        "drive.mount('/content/drive')"
      ],
      "execution_count": 2,
      "outputs": [
        {
          "output_type": "stream",
          "text": [
            "Go to this URL in a browser: https://accounts.google.com/o/oauth2/auth?client_id=947318989803-6bn6qk8qdgf4n4g3pfee6491hc0brc4i.apps.googleusercontent.com&redirect_uri=urn%3Aietf%3Awg%3Aoauth%3A2.0%3Aoob&scope=email%20https%3A%2F%2Fwww.googleapis.com%2Fauth%2Fdocs.test%20https%3A%2F%2Fwww.googleapis.com%2Fauth%2Fdrive%20https%3A%2F%2Fwww.googleapis.com%2Fauth%2Fdrive.photos.readonly%20https%3A%2F%2Fwww.googleapis.com%2Fauth%2Fpeopleapi.readonly&response_type=code\n",
            "\n",
            "Enter your authorization code:\n",
            "··········\n",
            "Mounted at /content/drive\n"
          ],
          "name": "stdout"
        }
      ]
    },
    {
      "cell_type": "code",
      "metadata": {
        "id": "4H0l84vTb_0q",
        "colab_type": "code",
        "colab": {
          "base_uri": "https://localhost:8080/",
          "height": 1000
        },
        "outputId": "441827e3-8eaa-4c92-edf9-7572997dd50d"
      },
      "source": [
        "!tensorflowjs_converter --input_format=tf_saved_model \\\n",
        "  --skip_op_check \\\n",
        "  --output_format=tfjs_graph_model \\\n",
        "  --saved_model_tags=serve \\\n",
        "  /content/saved_model/1570699666/ \\\n",
        "  /content/web_model"
      ],
      "execution_count": 15,
      "outputs": [
        {
          "output_type": "stream",
          "text": [
            "2019-10-10 11:57:27.093718: I tensorflow/core/platform/cpu_feature_guard.cc:142] Your CPU supports instructions that this TensorFlow binary was not compiled to use: AVX2 FMA\n",
            "2019-10-10 11:57:27.098397: I tensorflow/core/platform/profile_utils/cpu_utils.cc:94] CPU Frequency: 2200000000 Hz\n",
            "2019-10-10 11:57:27.098639: I tensorflow/compiler/xla/service/service.cc:168] XLA service 0xfad5180 executing computations on platform Host. Devices:\n",
            "2019-10-10 11:57:27.098678: I tensorflow/compiler/xla/service/service.cc:175]   StreamExecutor device (0): <undefined>, <undefined>\n",
            "2019-10-10 11:57:27.731182: W tensorflow/compiler/jit/mark_for_compilation_pass.cc:1412] (One-time warning): Not using XLA:CPU for cluster because envvar TF_XLA_FLAGS=--tf_xla_cpu_global_jit was not set.  If you want XLA:CPU, either set that envvar, or use experimental_jit_scope to enable XLA:CPU.  To confirm that XLA is active, pass --vmodule=xla_compilation_cache=1 (as a proper command-line flag, not via TF_XLA_FLAGS) or set the envvar XLA_FLAGS=--xla_hlo_profile.\n",
            "WARNING:tensorflow:Issue encountered when serializing variables.\n",
            "Type is unsupported, or the types of the items don't match field type in CollectionDef. Note this is a warning and probably safe to ignore.\n",
            "to_proto not supported in EAGER mode.\n",
            "WARNING:tensorflow:Issue encountered when serializing trainable_variables.\n",
            "Type is unsupported, or the types of the items don't match field type in CollectionDef. Note this is a warning and probably safe to ignore.\n",
            "to_proto not supported in EAGER mode.\n",
            "2019-10-10 11:57:36.163330: I tensorflow/core/grappler/devices.cc:60] Number of eligible GPUs (core count >= 8, compute capability >= 0.0): 0 (Note: TensorFlow was not compiled with CUDA support)\n",
            "2019-10-10 11:57:36.163498: I tensorflow/core/grappler/clusters/single_machine.cc:359] Starting new session\n",
            "2019-10-10 11:57:36.168351: E tensorflow/core/grappler/grappler_item_builder.cc:637] Init node dnn/input_from_feature_columns/input_layer/name_hub_module_embedding/module/string_to_index/hash_table/table_init doesn't exist in graph\n",
            "WARNING:tensorflow:From /usr/local/lib/python3.6/dist-packages/tensorflowjs/converters/tf_saved_model_conversion_v2.py:284: load (from tensorflow.python.saved_model.loader_impl) is deprecated and will be removed in a future version.\n",
            "Instructions for updating:\n",
            "This function will only be available through the v1 compatibility library as tf.compat.v1.saved_model.loader.load or tf.compat.v1.saved_model.load. There will be a new function for importing SavedModels in Tensorflow 2.0.\n",
            "WARNING:tensorflow:From /usr/local/lib/python3.6/dist-packages/tensorflow/python/training/saver.py:1276: checkpoint_exists (from tensorflow.python.training.checkpoint_management) is deprecated and will be removed in a future version.\n",
            "Instructions for updating:\n",
            "Use standard file APIs to check for files with this prefix.\n",
            "WARNING:tensorflow:From /usr/local/lib/python3.6/dist-packages/tensorflowjs/converters/tf_saved_model_conversion_v2.py:286: convert_variables_to_constants (from tensorflow.python.framework.graph_util_impl) is deprecated and will be removed in a future version.\n",
            "Instructions for updating:\n",
            "Use `tf.compat.v1.graph_util.convert_variables_to_constants`\n",
            "WARNING:tensorflow:From /usr/local/lib/python3.6/dist-packages/tensorflow/python/framework/graph_util_impl.py:270: extract_sub_graph (from tensorflow.python.framework.graph_util_impl) is deprecated and will be removed in a future version.\n",
            "Instructions for updating:\n",
            "Use `tf.compat.v1.graph_util.extract_sub_graph`\n",
            "2019-10-10 11:58:00.365575: I tensorflow/core/grappler/optimizers/meta_optimizer.cc:716] Optimization results for grappler item: graph_to_optimize\n",
            "2019-10-10 11:58:00.365647: I tensorflow/core/grappler/optimizers/meta_optimizer.cc:718]   debug_stripper: debug_stripper did nothing. time = 0.023ms.\n",
            "2019-10-10 11:58:00.365660: I tensorflow/core/grappler/optimizers/meta_optimizer.cc:718]   model_pruner: Graph size after: 313 nodes (-40), 372 edges (-39), time = 2.225ms.\n",
            "2019-10-10 11:58:00.365670: I tensorflow/core/grappler/optimizers/meta_optimizer.cc:718]   constant folding: Graph size after: 310 nodes (-3), 370 edges (-2), time = 731.761ms.\n",
            "2019-10-10 11:58:00.365679: I tensorflow/core/grappler/optimizers/meta_optimizer.cc:718]   arithmetic_optimizer: Graph size after: 262 nodes (-48), 368 edges (-2), time = 899.848ms.\n",
            "2019-10-10 11:58:00.365689: I tensorflow/core/grappler/optimizers/meta_optimizer.cc:718]   dependency_optimizer: Graph size after: 250 nodes (-12), 345 edges (-23), time = 3.278ms.\n",
            "2019-10-10 11:58:00.365698: I tensorflow/core/grappler/optimizers/meta_optimizer.cc:718]   model_pruner: Graph size after: 250 nodes (0), 345 edges (0), time = 1.08ms.\n",
            "2019-10-10 11:58:00.365706: I tensorflow/core/grappler/optimizers/meta_optimizer.cc:718]   constant folding: Graph size after: 250 nodes (0), 345 edges (0), time = 302.63ms.\n",
            "2019-10-10 11:58:00.365715: I tensorflow/core/grappler/optimizers/meta_optimizer.cc:718]   arithmetic_optimizer: Graph size after: 250 nodes (0), 345 edges (0), time = 805.103ms.\n",
            "2019-10-10 11:58:00.365723: I tensorflow/core/grappler/optimizers/meta_optimizer.cc:718]   dependency_optimizer: Graph size after: 250 nodes (0), 345 edges (0), time = 2.978ms.\n",
            "2019-10-10 11:58:00.365732: I tensorflow/core/grappler/optimizers/meta_optimizer.cc:718]   debug_stripper: debug_stripper did nothing. time = 0.125ms.\n",
            "2019-10-10 11:58:00.365741: I tensorflow/core/grappler/optimizers/meta_optimizer.cc:718]   model_pruner: Graph size after: 250 nodes (0), 345 edges (0), time = 0.974ms.\n",
            "2019-10-10 11:58:00.365750: I tensorflow/core/grappler/optimizers/meta_optimizer.cc:718]   constant folding: Graph size after: 250 nodes (0), 345 edges (0), time = 299.952ms.\n",
            "2019-10-10 11:58:00.365759: I tensorflow/core/grappler/optimizers/meta_optimizer.cc:718]   arithmetic_optimizer: Graph size after: 250 nodes (0), 345 edges (0), time = 804.891ms.\n",
            "2019-10-10 11:58:00.365767: I tensorflow/core/grappler/optimizers/meta_optimizer.cc:718]   dependency_optimizer: Graph size after: 250 nodes (0), 345 edges (0), time = 3.183ms.\n",
            "2019-10-10 11:58:00.365776: I tensorflow/core/grappler/optimizers/meta_optimizer.cc:718]   model_pruner: Graph size after: 250 nodes (0), 345 edges (0), time = 1.164ms.\n",
            "2019-10-10 11:58:00.365784: I tensorflow/core/grappler/optimizers/meta_optimizer.cc:718]   constant folding: Graph size after: 250 nodes (0), 345 edges (0), time = 308.151ms.\n",
            "2019-10-10 11:58:00.365793: I tensorflow/core/grappler/optimizers/meta_optimizer.cc:718]   arithmetic_optimizer: Graph size after: 250 nodes (0), 345 edges (0), time = 817.667ms.\n",
            "2019-10-10 11:58:00.365843: I tensorflow/core/grappler/optimizers/meta_optimizer.cc:718]   dependency_optimizer: Graph size after: 250 nodes (0), 345 edges (0), time = 3.268ms.\n",
            "2019-10-10 11:58:05.301007: I tensorflow/core/grappler/optimizers/meta_optimizer.cc:716] Optimization results for grappler item: graph_to_optimize\n",
            "2019-10-10 11:58:05.301137: I tensorflow/core/grappler/optimizers/meta_optimizer.cc:718]   remapper: Graph size after: 250 nodes (0), 345 edges (0), time = 1.441ms.\n",
            "2019-10-10 11:58:05.301160: I tensorflow/core/grappler/optimizers/meta_optimizer.cc:718]   constant folding: Graph size after: 250 nodes (0), 345 edges (0), time = 382.288ms.\n",
            "2019-10-10 11:58:05.301176: I tensorflow/core/grappler/optimizers/meta_optimizer.cc:718]   arithmetic_optimizer: Graph size after: 250 nodes (0), 345 edges (0), time = 878.413ms.\n",
            "2019-10-10 11:58:05.301192: I tensorflow/core/grappler/optimizers/meta_optimizer.cc:718]   dependency_optimizer: Graph size after: 250 nodes (0), 345 edges (0), time = 3.051ms.\n",
            "2019-10-10 11:58:05.301206: I tensorflow/core/grappler/optimizers/meta_optimizer.cc:718]   remapper: Graph size after: 250 nodes (0), 345 edges (0), time = 1.115ms.\n",
            "2019-10-10 11:58:05.301221: I tensorflow/core/grappler/optimizers/meta_optimizer.cc:718]   constant folding: Graph size after: 250 nodes (0), 345 edges (0), time = 296.041ms.\n",
            "2019-10-10 11:58:05.301235: I tensorflow/core/grappler/optimizers/meta_optimizer.cc:718]   arithmetic_optimizer: Graph size after: 250 nodes (0), 345 edges (0), time = 929.753ms.\n",
            "2019-10-10 11:58:05.301249: I tensorflow/core/grappler/optimizers/meta_optimizer.cc:718]   dependency_optimizer: Graph size after: 250 nodes (0), 345 edges (0), time = 3.43ms.\n",
            "Writing weight file /content/web_model/model.json...\n",
            "weight dnn/input_from_feature_columns/input_layer/name_hub_module_embedding/module_apply_default/Encoder_en/DNN/embedding_lookup_sparse/embedding_lookup/floordiv/y with shape () and dtype int64 was auto converted to the type int32\n",
            "weight dnn/input_from_feature_columns/input_layer/name_hub_module_embedding/module_apply_default/string_to_index/hash_table/Const with shape () and dtype int64 was auto converted to the type int32\n",
            "weight dnn/input_from_feature_columns/input_layer/name_hub_module_embedding/module_apply_default/Const with shape () and dtype int64 was auto converted to the type int32\n",
            "weight dnn/input_from_feature_columns/input_layer/name_hub_module_embedding/module_apply_default/ones_like with shape (2,) and dtype int64 was auto converted to the type int32\n",
            "tcmalloc: large alloc 1161011200 bytes == 0x23426a000 @  0x7f62b1d68615 0x5a1987 0x4b98d9 0x4b9a3b 0x561ec1 0x57c961 0x57e6ae 0x4bb0e7 0x4f862c 0x4f98c7 0x4f7a28 0x4f876d 0x4f98c7 0x4f6128 0x4f7d60 0x4f876d 0x4fa6c0 0x4f6128 0x4f7d60 0x4f876d 0x4fa6c0 0x4f6128 0x4f7d60 0x4f876d 0x4f98c7 0x4f6128 0x4f7d60 0x4f876d 0x4fa6c0 0x4f6128 0x4f7d60\n"
          ],
          "name": "stdout"
        }
      ]
    }
  ]
}